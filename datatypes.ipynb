{
 "cells": [
  {
   "cell_type": "code",
   "execution_count": 22,
   "metadata": {},
   "outputs": [],
   "source": [
    "import numpy as np\n",
    "import matplotlib.pyplot as plt"
   ]
  },
  {
   "cell_type": "code",
   "execution_count": 5,
   "metadata": {},
   "outputs": [
    {
     "name": "stdout",
     "output_type": "stream",
     "text": [
      "<class 'numpy.ndarray'>\n",
      "(5,)\n",
      "4\n",
      "[ 6  7 68 10  9]\n"
     ]
    }
   ],
   "source": [
    "# Array with Numpy\n",
    "\n",
    "a = np.array([4,7,68,10,9])\n",
    "print(type(a))\n",
    "print(a.shape)\n",
    "print(a[0])\n",
    "a[0] = 6\n",
    "print(a)"
   ]
  },
  {
   "cell_type": "code",
   "execution_count": 12,
   "metadata": {},
   "outputs": [
    {
     "name": "stdout",
     "output_type": "stream",
     "text": [
      "(2, 3)\n",
      "[[5 6 7]\n",
      " [6 2 4]]\n",
      "2\n"
     ]
    }
   ],
   "source": [
    "b = np.array([[5, 6, 7],[6,2,4]])\n",
    "print(b.shape)\n",
    "# printing the entere matrix\n",
    "print(b)\n",
    "\n",
    "#printing the position (1,1).\n",
    "print(b[1,1])\n"
   ]
  },
  {
   "cell_type": "code",
   "execution_count": 19,
   "metadata": {},
   "outputs": [
    {
     "name": "stdout",
     "output_type": "stream",
     "text": [
      "[[0. 0. 0.]\n",
      " [0. 0. 0.]\n",
      " [0. 0. 0.]]\n",
      "[[1. 1. 1. 1.]\n",
      " [1. 1. 1. 1.]\n",
      " [1. 1. 1. 1.]]\n",
      "[[1. 0. 0.]\n",
      " [0. 1. 0.]\n",
      " [0. 0. 1.]]\n",
      "[[117 131 111 148]\n",
      " [147 110 108 148]\n",
      " [147 117 148 136]\n",
      " [109 144 116 126]\n",
      " [109 131 100 110]]\n"
     ]
    }
   ],
   "source": [
    "# Using numpy functions\n",
    "\n",
    "zero_array = np.zeros((3,3))\n",
    "print(zero_array)\n",
    "\n",
    "ones_array = np.ones((3,4))\n",
    "print(ones_array)\n",
    "\n",
    "identity_array = np.eye(3)\n",
    "print(identity_array)\n",
    "\n",
    "random_array_int = np.random.randint(100,150,(5,4))\n",
    "print(random_array_int)"
   ]
  },
  {
   "cell_type": "code",
   "execution_count": 21,
   "metadata": {},
   "outputs": [
    {
     "name": "stdout",
     "output_type": "stream",
     "text": [
      "[147 110 108 148]\n"
     ]
    }
   ],
   "source": [
    "# printing a whole row at once\n",
    "print(random_array_int[1,:])"
   ]
  },
  {
   "cell_type": "code",
   "execution_count": 25,
   "metadata": {},
   "outputs": [
    {
     "data": {
      "image/png": "[encoded data removed]",
      "text/plain": [
       "<Figure size 432x288 with 1 Axes>"
      ]
     },
     "metadata": {
      "needs_background": "light"
     },
     "output_type": "display_data"
    }
   ],
   "source": [
    "# Ploting arrays using Matplotlib\n",
    "\n",
    "list_int = np.array([5,7,8,10,13,25])\n",
    "plt.plot(list_int)\n",
    "plt.ylabel(\"integer numbers\")\n",
    "plt.xlabel(\"x axis\")\n",
    "plt.show()"
   ]
  },
  {
   "cell_type": "code",
   "execution_count": 26,
   "metadata": {},
   "outputs": [
    {
     "data": {
      "image/png": "[encoded data removed]",
      "text/plain": [
       "<Figure size 432x288 with 1 Axes>"
      ]
     },
     "metadata": {
      "needs_background": "light"
     },
     "output_type": "display_data"
    }
   ],
   "source": [
    "#Formating the style of your plot\n",
    "plt.plot([2,3,6,7],[10,7,4,1],'r*')\n",
    "plt.show()"
   ]
  },
  {
   "cell_type": "code",
   "execution_count": 27,
   "metadata": {},
   "outputs": [
    {
     "data": {
      "text/plain": [
       "[<matplotlib.lines.Line2D at 0x117ece370>,\n",
       " <matplotlib.lines.Line2D at 0x117ece340>,\n",
       " <matplotlib.lines.Line2D at 0x117ece520>]"
      ]
     },
     "execution_count": 27,
     "metadata": {},
     "output_type": "execute_result"
    },
    {
     "data": {
      "image/png": "[encoded data removed]",
      "text/plain": [
       "<Figure size 432x288 with 1 Axes>"
      ]
     },
     "metadata": {
      "needs_background": "light"
     },
     "output_type": "display_data"
    }
   ],
   "source": [
    "t = np.arange(0.,5.,0.2)\n",
    "\n",
    "# red dashes, blue square and green triangles\n",
    "plt.plot(t,t,'r--',t,t**2,'bs',t,t**3,'g^')"
   ]
  },
  {
   "cell_type": "code",
   "execution_count": null,
   "metadata": {},
   "outputs": [],
   "source": [
    "def f(t):\n",
    "    return np.exp(-t)*np.cos(2*np.pi*t)\n",
    "\n",
    "plt.figure()\n",
    "plt.subplot(211)\n",
    "\n"
   ]
  }
 ],
 "metadata": {
  "interpreter": {
   "hash": "48537609f0491a4e374724a8864aed50b564b0806a9c311cacb509fc89655065"
  },
  "kernelspec": {
   "display_name": "Python 3.9.7 ('base')",
   "language": "python",
   "name": "python3"
  },
  "language_info": {
   "codemirror_mode": {
    "name": "ipython",
    "version": 3
   },
   "file_extension": ".py",
   "mimetype": "text/x-python",
   "name": "python",
   "nbconvert_exporter": "python",
   "pygments_lexer": "ipython3",
   "version": "3.9.7"
  },
  "orig_nbformat": 4
 },
 "nbformat": 4,
 "nbformat_minor": 2
}
